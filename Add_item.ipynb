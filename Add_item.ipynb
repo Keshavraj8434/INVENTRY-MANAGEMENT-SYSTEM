{
  "nbformat": 4,
  "nbformat_minor": 0,
  "metadata": {
    "colab": {
      "name": "Add_item.ipynb",
      "provenance": []
    },
    "kernelspec": {
      "name": "python3",
      "display_name": "Python 3"
    },
    "language_info": {
      "name": "python"
    }
  },
  "cells": [
    {
      "cell_type": "code",
      "metadata": {
        "id": "3LGOCEYr2Mj6"
      },
      "source": [
        "\n",
        "fd=open('record.json','r')\n",
        "r=fd.read()\n",
        "fd.close()"
      ],
      "execution_count": 45,
      "outputs": []
    },
    {
      "cell_type": "code",
      "metadata": {
        "id": "1YaFJcIu-1th"
      },
      "source": [
        ""
      ],
      "execution_count": null,
      "outputs": []
    },
    {
      "cell_type": "code",
      "metadata": {
        "colab": {
          "base_uri": "https://localhost:8080/"
        },
        "id": "cKlow2Pf2dIW",
        "outputId": "6b80b3b3-a666-40dd-d8a0-9ab1448fdfcb"
      },
      "source": [
        "import json\n",
        "record=json.loads(r)\n",
        "record"
      ],
      "execution_count": 46,
      "outputs": [
        {
          "output_type": "execute_result",
          "data": {
            "text/plain": [
              "{'1001': {'name': 'choco cake', 'pr': 100, 'qn': 134},\n",
              " '1002': {'name': 'Milk Cake', 'pr': 800, 'qn': 100},\n",
              " '1003': {'name': 'Drink', 'pr': 85, 'qn': 100},\n",
              " '1004': {'name': 'Candy', 'pr': 5, 'qn': 1000},\n",
              " '1005': {'name': 'Pen', 'pr': 20, 'qn': 100},\n",
              " '1006': {'name': 'Brown Cake', 'pr': 1700, 'qn': 10},\n",
              " '1007': {'name': 'Red Cake', 'pr': 600, 'qn': 10},\n",
              " '1008': {'name': 'Orange Cake', 'pr': 500, 'qn': 10},\n",
              " '1009': {'name': 'greenCake', 'pr': 400, 'qn': 10},\n",
              " '1010': {'name': 'Red pen', 'pr': 300, 'qn': 10},\n",
              " '1011': {'name': 'Blue pen', 'pr': 200, 'qn': 10},\n",
              " '1012': {'name': 'Blue Cake', 'pr': 100, 'qn': 10},\n",
              " '1013': {'name': 'White pen', 'pr': 900, 'qn': 10},\n",
              " '1014': {'name': 'Green pen', 'pr': 800, 'qn': 10},\n",
              " '1015': {'name': 'shirt', 'pr': 700, 'qn': 10},\n",
              " '1016': {'name': 'pant', 'pr': 600, 'qn': 10},\n",
              " '1017': {'name': 'basket', 'pr': 500, 'qn': 10},\n",
              " '1018': {'name': 'Earphone', 'pr': 400, 'qn': 10},\n",
              " '1019': {'name': 'Bud', 'pr': 300, 'qn': 10},\n",
              " '1020': {'name': 'Footware', 'pr': 200, 'qn': 10},\n",
              " '1021': {'name': 'Carrot', 'pr': 100, 'qn': 10},\n",
              " '1022': {'name': 'Tomato', 'pr': 900, 'qn': 10},\n",
              " '1023': {'name': 'Onion', 'pr': 800, 'qn': 10},\n",
              " '1024': {'name': 'Apple', 'pr': 700, 'qn': 10},\n",
              " '1025': {'name': 'mango', 'pr': 600, 'qn': 10},\n",
              " '1026': {'name': 'Banana', 'pr': 500, 'qn': 10},\n",
              " '1027': {'name': 'Orange', 'pr': 400, 'qn': 10},\n",
              " '1028': {'name': 'COpy', 'pr': 300, 'qn': 10},\n",
              " '1029': {'name': 'Tea', 'pr': 200, 'qn': 10},\n",
              " '1030': {'name': 'Green tea', 'pr': 100, 'qn': 10}}"
            ]
          },
          "metadata": {},
          "execution_count": 46
        }
      ]
    },
    {
      "cell_type": "code",
      "metadata": {
        "colab": {
          "base_uri": "https://localhost:8080/"
        },
        "id": "4DFq_H6l214r",
        "outputId": "39c8ddfe-21b8-4a14-950d-412f92871491"
      },
      "source": [
        "prod_id=input(\"Enter the product id:\")\n",
        "name=input('Enter name:')\n",
        "pr=int(input('Enter the price:'))\n",
        "qn=int(input('Enter the quantity:'))\n",
        "if prod_id in record.keys():\n",
        "  qn=qn+record[prod_id]['qn']\n",
        "record[prod_id]={'name':name,'pr':pr,'qn':qn}\n",
        "js=json.dumps(record)\n",
        "fd=open(\"record.json\",'w')\n",
        "fd.write(js)\n",
        "fd.close()\n"
      ],
      "execution_count": 41,
      "outputs": [
        {
          "name": "stdout",
          "output_type": "stream",
          "text": [
            "Enter the product id:1001\n",
            "Enter name:choco cake\n",
            "Enter the price:100\n",
            "Enter the quantity:100\n"
          ]
        }
      ]
    },
    {
      "cell_type": "code",
      "metadata": {
        "colab": {
          "base_uri": "https://localhost:8080/"
        },
        "id": "FKvT7Gvu2plU",
        "outputId": "c1d28b33-6eb5-4f94-ce43-3d1e9ef84b4f"
      },
      "source": [
        "record"
      ],
      "execution_count": 42,
      "outputs": [
        {
          "output_type": "execute_result",
          "data": {
            "text/plain": [
              "{'1001': {'name': 'choco cake', 'pr': 100, 'qn': 134},\n",
              " '1002': {'name': 'Milk Cake', 'pr': 800, 'qn': 100},\n",
              " '1003': {'name': 'Drink', 'pr': 85, 'qn': 100},\n",
              " '1004': {'name': 'Candy', 'pr': 5, 'qn': 1000},\n",
              " '1005': {'name': 'Pen', 'pr': 20, 'qn': 100},\n",
              " '1006': {'name': 'Cake', 'pr': 100, 'qn': 10}}"
            ]
          },
          "metadata": {},
          "execution_count": 42
        }
      ]
    },
    {
      "cell_type": "code",
      "metadata": {
        "id": "QZF-8j5L2iYk"
      },
      "source": [
        ""
      ],
      "execution_count": 32,
      "outputs": []
    }
  ]
}