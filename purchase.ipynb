{
  "nbformat": 4,
  "nbformat_minor": 0,
  "metadata": {
    "colab": {
      "name": "purchase.ipynb",
      "provenance": []
    },
    "kernelspec": {
      "name": "python3",
      "display_name": "Python 3"
    },
    "language_info": {
      "name": "python"
    }
  },
  "cells": [
    {
      "cell_type": "code",
      "metadata": {
        "colab": {
          "base_uri": "https://localhost:8080/"
        },
        "id": "DHIX6Hcy_DyL",
        "outputId": "0761144c-5457-42dd-b2bd-a7c304bbcf01"
      },
      "source": [
        "import json\n",
        "fd=open('record.json','r')\n",
        "r=fd.read()\n",
        "fd.close()\n",
        "records=json.loads(r)\n",
        "records"
      ],
      "execution_count": 3,
      "outputs": [
        {
          "output_type": "execute_result",
          "data": {
            "text/plain": [
              "{'1001': {'name': 'choco cake', 'pr': 100, 'qn': 134},\n",
              " '1002': {'name': 'Milk Cake', 'pr': 800, 'qn': 100},\n",
              " '1003': {'name': 'Drink', 'pr': 85, 'qn': 100},\n",
              " '1004': {'name': 'Candy', 'pr': 5, 'qn': 1000},\n",
              " '1005': {'name': 'Pen', 'pr': 20, 'qn': 100},\n",
              " '1006': {'name': 'Brown Cake', 'pr': 1700, 'qn': 10},\n",
              " '1007': {'name': 'Red Cake', 'pr': 600, 'qn': 10},\n",
              " '1008': {'name': 'Orange Cake', 'pr': 500, 'qn': 10},\n",
              " '1009': {'name': 'greenCake', 'pr': 400, 'qn': 10},\n",
              " '1010': {'name': 'Red pen', 'pr': 300, 'qn': 10},\n",
              " '1011': {'name': 'Blue pen', 'pr': 200, 'qn': 10},\n",
              " '1012': {'name': 'Blue Cake', 'pr': 100, 'qn': 10},\n",
              " '1013': {'name': 'White pen', 'pr': 900, 'qn': 10},\n",
              " '1014': {'name': 'Green pen', 'pr': 800, 'qn': 10},\n",
              " '1015': {'name': 'shirt', 'pr': 700, 'qn': 10},\n",
              " '1016': {'name': 'pant', 'pr': 600, 'qn': 10},\n",
              " '1017': {'name': 'basket', 'pr': 500, 'qn': 10},\n",
              " '1018': {'name': 'Earphone', 'pr': 400, 'qn': 10},\n",
              " '1019': {'name': 'Bud', 'pr': 300, 'qn': 10},\n",
              " '1020': {'name': 'Footware', 'pr': 200, 'qn': 10},\n",
              " '1021': {'name': 'Carrot', 'pr': 100, 'qn': 10},\n",
              " '1022': {'name': 'Tomato', 'pr': 900, 'qn': 10},\n",
              " '1023': {'name': 'Onion', 'pr': 800, 'qn': 10},\n",
              " '1024': {'name': 'Apple', 'pr': 700, 'qn': 10},\n",
              " '1025': {'name': 'mango', 'pr': 600, 'qn': 10},\n",
              " '1026': {'name': 'Banana', 'pr': 500, 'qn': 10},\n",
              " '1027': {'name': 'Orange', 'pr': 400, 'qn': 10},\n",
              " '1028': {'name': 'COpy', 'pr': 300, 'qn': 10},\n",
              " '1029': {'name': 'Tea', 'pr': 200, 'qn': 10},\n",
              " '1030': {'name': 'Green tea', 'pr': 100, 'qn': 10}}"
            ]
          },
          "metadata": {},
          "execution_count": 3
        }
      ]
    },
    {
      "cell_type": "markdown",
      "metadata": {
        "id": "8mOmHOIm_tBv"
      },
      "source": [
        "# Purchase\n"
      ]
    },
    {
      "cell_type": "code",
      "metadata": {
        "colab": {
          "base_uri": "https://localhost:8080/"
        },
        "id": "z_7up1da_2J9",
        "outputId": "e8c45b6b-409f-4521-e5ab-decc9c1d13c8"
      },
      "source": [
        "ui_prod=input('Enter the product_id')\n",
        "ui_quant=int(input('Enter the quantity:'))\n",
        "print(\"product: \",records[ui_prod]['name'])\n",
        "print(\"Price: \",records[ui_prod]['pr'])\n",
        "print(\"Billing Amount: \",int(records[ui_prod]['pr'])*ui_quant)\n",
        "records[ui_prod]['qn']=int(records[ui_prod]['qn'])-ui_quant\n"
      ],
      "execution_count": 9,
      "outputs": [
        {
          "output_type": "stream",
          "name": "stdout",
          "text": [
            "Enter the product_id1001\n",
            "Enter the quantity:1\n",
            "product:  choco cake\n",
            "Price:  100\n",
            "Billing Amount:  100\n"
          ]
        }
      ]
    },
    {
      "cell_type": "markdown",
      "metadata": {
        "id": "eARH9gAmA2n-"
      },
      "source": [
        "# Update inventory after purchase"
      ]
    },
    {
      "cell_type": "code",
      "metadata": {
        "id": "nF7cFBe1A-n_"
      },
      "source": [
        "js=json.dumps(records)\n",
        "fd=open('record.json','w')\n",
        "fd.write(js)\n",
        "fd.close()"
      ],
      "execution_count": 10,
      "outputs": []
    },
    {
      "cell_type": "markdown",
      "metadata": {
        "id": "j-kPj8NDGOqv"
      },
      "source": [
        "# Sales"
      ]
    },
    {
      "cell_type": "code",
      "metadata": {
        "colab": {
          "base_uri": "https://localhost:8080/"
        },
        "id": "BsengwoPGTCF",
        "outputId": "1760a708-49dd-4767-b135-37011b7274fe"
      },
      "source": [
        "sales={}\n",
        "sales[len(sales)+1]={'prod':ui_prod,'qn':ui_quant,'amount':records[ui_prod]['pr']*ui_quant}\n",
        "sales\n"
      ],
      "execution_count": 18,
      "outputs": [
        {
          "output_type": "execute_result",
          "data": {
            "text/plain": [
              "{1: {'amount': 100, 'prod': '1001', 'qn': 1}}"
            ]
          },
          "metadata": {},
          "execution_count": 18
        }
      ]
    },
    {
      "cell_type": "code",
      "metadata": {
        "id": "WsaMxeCtIc1L"
      },
      "source": [
        "js=json.dumps(sales)\n",
        "fd=open(\"sales.json\",'w')\n",
        "fd.write(js)\n",
        "fd.close()"
      ],
      "execution_count": 19,
      "outputs": []
    },
    {
      "cell_type": "code",
      "metadata": {
        "colab": {
          "base_uri": "https://localhost:8080/",
          "height": 35
        },
        "id": "HXH90U1hIsCT",
        "outputId": "081a617d-d66c-4b73-bc41-d8817d2d16ee"
      },
      "source": [
        "fd=open('sales.json','r')\n",
        "r=fd.read()\n",
        "r"
      ],
      "execution_count": 20,
      "outputs": [
        {
          "output_type": "execute_result",
          "data": {
            "application/vnd.google.colaboratory.intrinsic+json": {
              "type": "string"
            },
            "text/plain": [
              "'{\"1\": {\"prod\": \"1001\", \"qn\": 1, \"amount\": 100}}'"
            ]
          },
          "metadata": {},
          "execution_count": 20
        }
      ]
    }
  ]
}